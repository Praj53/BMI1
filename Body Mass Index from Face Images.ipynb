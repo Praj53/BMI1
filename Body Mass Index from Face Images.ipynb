{
 "cells": [
  {
   "cell_type": "markdown",
   "metadata": {},
   "source": [
    "Importing necessary libraries"
   ]
  },
  {
   "cell_type": "code",
   "execution_count": 1,
   "metadata": {},
   "outputs": [
    {
     "name": "stdout",
     "output_type": "stream",
     "text": [
      "Requirement already satisfied: opencv-python in e:\\abc\\lib\\site-packages (4.8.1.78)\n",
      "Requirement already satisfied: numpy>=1.19.3 in e:\\abc\\lib\\site-packages (from opencv-python) (1.26.3)\n"
     ]
    }
   ],
   "source": [
    "! pip install opencv-python"
   ]
  },
  {
   "cell_type": "code",
   "execution_count": 2,
   "metadata": {},
   "outputs": [],
   "source": [
    "import cv2\n"
   ]
  },
  {
   "cell_type": "code",
   "execution_count": 3,
   "metadata": {},
   "outputs": [
    {
     "name": "stdout",
     "output_type": "stream",
     "text": [
      "Microsoft Windows [Version 10.0.19045.3208]\r\n",
      "(c) Microsoft Corporation. All rights reserved.\r\n",
      "\r\n",
      "C:\\Users\\LENOVO L460\\Downloads\\Body-Mass-Index-from-Face-Images-main\\Body-Mass-Index-from-Face-Images-main>Where python\n",
      "E:\\abc\\python.exe\r\n",
      "C:\\Users\\LENOVO L460\\AppData\\Local\\Programs\\Python\\Python39\\python.exe\r\n",
      "C:\\Users\\LENOVO L460\\AppData\\Local\\Microsoft\\WindowsApps\\python.exe\r\n",
      "\r\n",
      "C:\\Users\\LENOVO L460\\Downloads\\Body-Mass-Index-from-Face-Images-main\\Body-Mass-Index-from-Face-Images-main>"
     ]
    }
   ],
   "source": [
    "%%cmd \n",
    "Where python\n"
   ]
  },
  {
   "cell_type": "code",
   "execution_count": 4,
   "metadata": {},
   "outputs": [
    {
     "name": "stdout",
     "output_type": "stream",
     "text": [
      "Microsoft Windows [Version 10.0.19045.3208]\r\n",
      "(c) Microsoft Corporation. All rights reserved.\r\n",
      "\r\n",
      "C:\\Users\\LENOVO L460\\Downloads\\Body-Mass-Index-from-Face-Images-main\\Body-Mass-Index-from-Face-Images-main>pip install face-recognition\n",
      "Requirement already satisfied: face-recognition in e:\\abc\\lib\\site-packages (1.3.0)\r\n",
      "Requirement already satisfied: numpy in e:\\abc\\lib\\site-packages (from face-recognition) (1.26.3)\r\n",
      "Requirement already satisfied: Pillow in e:\\abc\\lib\\site-packages (from face-recognition) (9.2.0)\r\n",
      "Requirement already satisfied: dlib>=19.7 in e:\\abc\\lib\\site-packages (from face-recognition) (19.22.99)\r\n",
      "Requirement already satisfied: Click>=6.0 in e:\\abc\\lib\\site-packages (from face-recognition) (8.0.4)\r\n",
      "Requirement already satisfied: face-recognition-models>=0.3.0 in e:\\abc\\lib\\site-packages (from face-recognition) (0.3.0)\r\n",
      "Requirement already satisfied: colorama in e:\\abc\\lib\\site-packages (from Click>=6.0->face-recognition) (0.4.6)\r\n",
      "\r\n",
      "C:\\Users\\LENOVO L460\\Downloads\\Body-Mass-Index-from-Face-Images-main\\Body-Mass-Index-from-Face-Images-main>"
     ]
    }
   ],
   "source": [
    "%%cmd\n",
    "pip install face-recognition"
   ]
  },
  {
   "cell_type": "code",
   "execution_count": 5,
   "metadata": {},
   "outputs": [
    {
     "name": "stdout",
     "output_type": "stream",
     "text": [
      "Microsoft Windows [Version 10.0.19045.3208]\r\n",
      "(c) Microsoft Corporation. All rights reserved.\r\n",
      "\r\n",
      "C:\\Users\\LENOVO L460\\Downloads\\Body-Mass-Index-from-Face-Images-main\\Body-Mass-Index-from-Face-Images-main>pip install cmake\n",
      "Requirement already satisfied: cmake in e:\\abc\\lib\\site-packages (3.28.1)\r\n",
      "\r\n",
      "C:\\Users\\LENOVO L460\\Downloads\\Body-Mass-Index-from-Face-Images-main\\Body-Mass-Index-from-Face-Images-main>"
     ]
    }
   ],
   "source": [
    "%%cmd \n",
    "pip install cmake\n"
   ]
  },
  {
   "cell_type": "code",
   "execution_count": 6,
   "metadata": {
    "id": "geEirVAGRJLK"
   },
   "outputs": [
    {
     "name": "stderr",
     "output_type": "stream",
     "text": [
      "E:\\abc\\lib\\site-packages\\scipy\\__init__.py:155: UserWarning: A NumPy version >=1.18.5 and <1.25.0 is required for this version of SciPy (detected version 1.26.3\n",
      "  warnings.warn(f\"A NumPy version >={np_minversion} and <{np_maxversion}\"\n"
     ]
    },
    {
     "name": "stdout",
     "output_type": "stream",
     "text": [
      "WARNING:tensorflow:From E:\\abc\\lib\\site-packages\\keras\\src\\losses.py:2976: The name tf.losses.sparse_softmax_cross_entropy is deprecated. Please use tf.compat.v1.losses.sparse_softmax_cross_entropy instead.\n",
      "\n"
     ]
    }
   ],
   "source": [
    "import pandas as pd\n",
    "import numpy as np\n",
    "import sklearn\n",
    "import tensorflow as tf\n",
    "import logging\n",
    "import time"
   ]
  },
  {
   "cell_type": "code",
   "execution_count": 7,
   "metadata": {},
   "outputs": [
    {
     "name": "stdout",
     "output_type": "stream",
     "text": [
      "Microsoft Windows [Version 10.0.19045.3208]\r\n",
      "(c) Microsoft Corporation. All rights reserved.\r\n",
      "\r\n",
      "C:\\Users\\LENOVO L460\\Downloads\\Body-Mass-Index-from-Face-Images-main\\Body-Mass-Index-from-Face-Images-main>python --version\n",
      "Python 3.9.13\r\n",
      "\r\n",
      "C:\\Users\\LENOVO L460\\Downloads\\Body-Mass-Index-from-Face-Images-main\\Body-Mass-Index-from-Face-Images-main>"
     ]
    }
   ],
   "source": [
    "%%cmd\n",
    "python --version"
   ]
  },
  {
   "cell_type": "code",
   "execution_count": 8,
   "metadata": {},
   "outputs": [
    {
     "name": "stdout",
     "output_type": "stream",
     "text": [
      "Microsoft Windows [Version 10.0.19045.3208]\r\n",
      "(c) Microsoft Corporation. All rights reserved.\r\n",
      "\r\n",
      "C:\\Users\\LENOVO L460\\Downloads\\Body-Mass-Index-from-Face-Images-main\\Body-Mass-Index-from-Face-Images-main>pip install \"C:\\Users\\LENOVO L460\\Desktop\\dlib\\dlib-19.22.99-cp39-cp39-win_amd64.whl\"\n",
      "Processing c:\\users\\lenovo l460\\desktop\\dlib\\dlib-19.22.99-cp39-cp39-win_amd64.whl\r\n",
      "\r\n",
      "C:\\Users\\LENOVO L460\\Downloads\\Body-Mass-Index-from-Face-Images-main\\Body-Mass-Index-from-Face-Images-main>"
     ]
    },
    {
     "name": "stderr",
     "output_type": "stream",
     "text": [
      "WARNING: Requirement 'C:\\\\Users\\\\LENOVO L460\\\\Desktop\\\\dlib\\\\dlib-19.22.99-cp39-cp39-win_amd64.whl' looks like a filename, but the file does not exist\r\n",
      "ERROR: Could not install packages due to an OSError: [Errno 2] No such file or directory: 'C:\\\\Users\\\\LENOVO L460\\\\Desktop\\\\dlib\\\\dlib-19.22.99-cp39-cp39-win_amd64.whl'\r\n",
      "\r\n"
     ]
    }
   ],
   "source": [
    "%%cmd\n",
    "pip install \"C:\\Users\\LENOVO L460\\Desktop\\dlib\\dlib-19.22.99-cp39-cp39-win_amd64.whl\""
   ]
  },
  {
   "cell_type": "code",
   "execution_count": 9,
   "metadata": {},
   "outputs": [
    {
     "name": "stdout",
     "output_type": "stream",
     "text": [
      "Microsoft Windows [Version 10.0.19045.3208]\r\n",
      "(c) Microsoft Corporation. All rights reserved.\r\n",
      "\r\n",
      "C:\\Users\\LENOVO L460\\Downloads\\Body-Mass-Index-from-Face-Images-main\\Body-Mass-Index-from-Face-Images-main>pip install face-recognition\n",
      "Requirement already satisfied: face-recognition in e:\\abc\\lib\\site-packages (1.3.0)\r\n",
      "Requirement already satisfied: Pillow in e:\\abc\\lib\\site-packages (from face-recognition) (9.2.0)\r\n",
      "Requirement already satisfied: face-recognition-models>=0.3.0 in e:\\abc\\lib\\site-packages (from face-recognition) (0.3.0)\r\n",
      "Requirement already satisfied: Click>=6.0 in e:\\abc\\lib\\site-packages (from face-recognition) (8.0.4)\r\n",
      "Requirement already satisfied: dlib>=19.7 in e:\\abc\\lib\\site-packages (from face-recognition) (19.22.99)\r\n",
      "Requirement already satisfied: numpy in e:\\abc\\lib\\site-packages (from face-recognition) (1.26.3)\r\n",
      "Requirement already satisfied: colorama in e:\\abc\\lib\\site-packages (from Click>=6.0->face-recognition) (0.4.6)\r\n",
      "\r\n",
      "C:\\Users\\LENOVO L460\\Downloads\\Body-Mass-Index-from-Face-Images-main\\Body-Mass-Index-from-Face-Images-main>"
     ]
    }
   ],
   "source": [
    "%%cmd \n",
    "pip install face-recognition"
   ]
  },
  {
   "cell_type": "code",
   "execution_count": 10,
   "metadata": {},
   "outputs": [
    {
     "name": "stdout",
     "output_type": "stream",
     "text": [
      "Requirement already satisfied: cassandra-driver in e:\\abc\\lib\\site-packages (3.29.0)\n",
      "Requirement already satisfied: geomet<0.3,>=0.1 in e:\\abc\\lib\\site-packages (from cassandra-driver) (0.2.1.post1)\n",
      "Requirement already satisfied: click in e:\\abc\\lib\\site-packages (from geomet<0.3,>=0.1->cassandra-driver) (8.0.4)\n",
      "Requirement already satisfied: six in e:\\abc\\lib\\site-packages (from geomet<0.3,>=0.1->cassandra-driver) (1.16.0)\n",
      "Requirement already satisfied: colorama in e:\\abc\\lib\\site-packages (from click->geomet<0.3,>=0.1->cassandra-driver) (0.4.6)\n"
     ]
    }
   ],
   "source": [
    "!pip install cassandra-driver\n"
   ]
  },
  {
   "cell_type": "code",
   "execution_count": 11,
   "metadata": {},
   "outputs": [],
   "source": [
    "import cassandra"
   ]
  },
  {
   "cell_type": "code",
   "execution_count": 12,
   "metadata": {
    "id": "8BPUOfO0T1Fk"
   },
   "outputs": [],
   "source": [
    "import face_recognition"
   ]
  },
  {
   "cell_type": "markdown",
   "metadata": {},
   "source": [
    "Using Pandas to read the CSV file"
   ]
  },
  {
   "cell_type": "code",
   "execution_count": 13,
   "metadata": {
    "id": "EB7GZ8pNRJLo"
   },
   "outputs": [],
   "source": [
    "df=pd.read_csv(\"bmi data set.csv\")"
   ]
  },
  {
   "cell_type": "markdown",
   "metadata": {},
   "source": [
    "Generating the log file"
   ]
  },
  {
   "cell_type": "code",
   "execution_count": 14,
   "metadata": {},
   "outputs": [],
   "source": [
    "logging.basicConfig(filename='bmi.log', level=logging.INFO, format='%(asctime)s:%(levelname)s:%(message)s')"
   ]
  },
  {
   "cell_type": "code",
   "execution_count": 15,
   "metadata": {
    "id": "Aps4wTSZRJLq"
   },
   "outputs": [],
   "source": [
    "from pathlib import Path as p"
   ]
  },
  {
   "cell_type": "code",
   "execution_count": 16,
   "metadata": {
    "id": "Q-CAVjkJRJLr"
   },
   "outputs": [],
   "source": [
    "#Identifying the image name and commencing iteration from 0\n",
    "\n",
    "def get_index_of_digit(string):\n",
    "    import re\n",
    "    match = re.search(\"\\d\", p(string).stem)\n",
    "    return match.start(0)"
   ]
  },
  {
   "cell_type": "markdown",
   "metadata": {},
   "source": [
    "Specifying the data folder"
   ]
  },
  {
   "cell_type": "code",
   "execution_count": 17,
   "metadata": {
    "id": "J_f8Dtj7RJLt"
   },
   "outputs": [],
   "source": [
    "data_folder = \"sample_faces\""
   ]
  },
  {
   "cell_type": "code",
   "execution_count": 18,
   "metadata": {
    "colab": {
     "base_uri": "https://localhost:8080/"
    },
    "id": "pfHKwoeORJMq",
    "outputId": "3a3f235f-0346-4751-f6b2-c914d06fa8ae"
   },
   "outputs": [
    {
     "name": "stdout",
     "output_type": "stream",
     "text": [
      "Total 257 photos \n"
     ]
    }
   ],
   "source": [
    "from glob import glob\n",
    "all_files = glob(data_folder+\"/*\")\n",
    "\n",
    "all_jpgs = sorted([img for img in all_files if \".jpg\" in img or \".jpeg\" in img or \"JPG\" or \"png\" or \"PNG\" in img])\n",
    "logging.info(\"Total %d photos\", len(all_jpgs))\n",
    "print(\"Total {} photos \".format(len(all_jpgs)))"
   ]
  },
  {
   "cell_type": "code",
   "execution_count": 19,
   "metadata": {
    "id": "K4NFOaQrRJMu"
   },
   "outputs": [],
   "source": [
    "id_dir = [(p(images).stem[:(get_index_of_digit(p(images).stem))],images) for  images in all_jpgs ]"
   ]
  },
  {
   "cell_type": "code",
   "execution_count": 20,
   "metadata": {
    "id": "1sTj4ai8RJMw"
   },
   "outputs": [],
   "source": [
    "image_df = pd.DataFrame(id_dir,columns=['UID','path'])"
   ]
  },
  {
   "cell_type": "code",
   "execution_count": 21,
   "metadata": {
    "id": "SLok4X9fRJMz"
   },
   "outputs": [],
   "source": [
    "data_df = image_df.merge(df)"
   ]
  },
  {
   "cell_type": "code",
   "execution_count": 22,
   "metadata": {
    "colab": {
     "base_uri": "https://localhost:8080/",
     "height": 424
    },
    "id": "MgPJxaHARJM0",
    "outputId": "e95a5f3f-46e5-408f-89ba-0f7c52f20f77"
   },
   "outputs": [
    {
     "data": {
      "text/html": [
       "<div>\n",
       "<style scoped>\n",
       "    .dataframe tbody tr th:only-of-type {\n",
       "        vertical-align: middle;\n",
       "    }\n",
       "\n",
       "    .dataframe tbody tr th {\n",
       "        vertical-align: top;\n",
       "    }\n",
       "\n",
       "    .dataframe thead th {\n",
       "        text-align: right;\n",
       "    }\n",
       "</style>\n",
       "<table border=\"1\" class=\"dataframe\">\n",
       "  <thead>\n",
       "    <tr style=\"text-align: right;\">\n",
       "      <th></th>\n",
       "      <th>UID</th>\n",
       "      <th>path</th>\n",
       "      <th>id</th>\n",
       "      <th>name</th>\n",
       "      <th>height</th>\n",
       "      <th>weight</th>\n",
       "    </tr>\n",
       "  </thead>\n",
       "  <tbody>\n",
       "    <tr>\n",
       "      <th>0</th>\n",
       "      <td>akshay</td>\n",
       "      <td>sample_faces\\akshay1.jpeg</td>\n",
       "      <td>1</td>\n",
       "      <td>akshay kumar</td>\n",
       "      <td>1.78</td>\n",
       "      <td>80</td>\n",
       "    </tr>\n",
       "    <tr>\n",
       "      <th>1</th>\n",
       "      <td>akshay</td>\n",
       "      <td>sample_faces\\akshay10.jpg</td>\n",
       "      <td>1</td>\n",
       "      <td>akshay kumar</td>\n",
       "      <td>1.78</td>\n",
       "      <td>80</td>\n",
       "    </tr>\n",
       "    <tr>\n",
       "      <th>2</th>\n",
       "      <td>akshay</td>\n",
       "      <td>sample_faces\\akshay11.jpg</td>\n",
       "      <td>1</td>\n",
       "      <td>akshay kumar</td>\n",
       "      <td>1.78</td>\n",
       "      <td>80</td>\n",
       "    </tr>\n",
       "    <tr>\n",
       "      <th>3</th>\n",
       "      <td>akshay</td>\n",
       "      <td>sample_faces\\akshay12.jpg</td>\n",
       "      <td>1</td>\n",
       "      <td>akshay kumar</td>\n",
       "      <td>1.78</td>\n",
       "      <td>80</td>\n",
       "    </tr>\n",
       "    <tr>\n",
       "      <th>4</th>\n",
       "      <td>akshay</td>\n",
       "      <td>sample_faces\\akshay13.jpg</td>\n",
       "      <td>1</td>\n",
       "      <td>akshay kumar</td>\n",
       "      <td>1.78</td>\n",
       "      <td>80</td>\n",
       "    </tr>\n",
       "    <tr>\n",
       "      <th>...</th>\n",
       "      <td>...</td>\n",
       "      <td>...</td>\n",
       "      <td>...</td>\n",
       "      <td>...</td>\n",
       "      <td>...</td>\n",
       "      <td>...</td>\n",
       "    </tr>\n",
       "    <tr>\n",
       "      <th>252</th>\n",
       "      <td>vimal</td>\n",
       "      <td>sample_faces\\vimal1.jpg</td>\n",
       "      <td>45</td>\n",
       "      <td>vimal</td>\n",
       "      <td>1.75</td>\n",
       "      <td>69</td>\n",
       "    </tr>\n",
       "    <tr>\n",
       "      <th>253</th>\n",
       "      <td>vishal</td>\n",
       "      <td>sample_faces\\vishal1.jpg</td>\n",
       "      <td>35</td>\n",
       "      <td>vishal</td>\n",
       "      <td>1.80</td>\n",
       "      <td>73</td>\n",
       "    </tr>\n",
       "    <tr>\n",
       "      <th>254</th>\n",
       "      <td>vishnuvishal</td>\n",
       "      <td>sample_faces\\vishnuvishal1.jpg</td>\n",
       "      <td>46</td>\n",
       "      <td>vishnuvishal</td>\n",
       "      <td>1.77</td>\n",
       "      <td>73</td>\n",
       "    </tr>\n",
       "    <tr>\n",
       "      <th>255</th>\n",
       "      <td>vjantony</td>\n",
       "      <td>sample_faces\\vjantony1.jpg</td>\n",
       "      <td>49</td>\n",
       "      <td>vjantony</td>\n",
       "      <td>1.75</td>\n",
       "      <td>67</td>\n",
       "    </tr>\n",
       "    <tr>\n",
       "      <th>256</th>\n",
       "      <td>vjsethu</td>\n",
       "      <td>sample_faces\\vjsethu1.jpg</td>\n",
       "      <td>48</td>\n",
       "      <td>vjsethu</td>\n",
       "      <td>1.77</td>\n",
       "      <td>84</td>\n",
       "    </tr>\n",
       "  </tbody>\n",
       "</table>\n",
       "<p>257 rows × 6 columns</p>\n",
       "</div>"
      ],
      "text/plain": [
       "              UID                            path  id          name  height  \\\n",
       "0          akshay       sample_faces\\akshay1.jpeg   1  akshay kumar    1.78   \n",
       "1          akshay       sample_faces\\akshay10.jpg   1  akshay kumar    1.78   \n",
       "2          akshay       sample_faces\\akshay11.jpg   1  akshay kumar    1.78   \n",
       "3          akshay       sample_faces\\akshay12.jpg   1  akshay kumar    1.78   \n",
       "4          akshay       sample_faces\\akshay13.jpg   1  akshay kumar    1.78   \n",
       "..            ...                             ...  ..           ...     ...   \n",
       "252         vimal         sample_faces\\vimal1.jpg  45         vimal    1.75   \n",
       "253        vishal        sample_faces\\vishal1.jpg  35        vishal    1.80   \n",
       "254  vishnuvishal  sample_faces\\vishnuvishal1.jpg  46  vishnuvishal    1.77   \n",
       "255      vjantony      sample_faces\\vjantony1.jpg  49      vjantony    1.75   \n",
       "256       vjsethu       sample_faces\\vjsethu1.jpg  48       vjsethu    1.77   \n",
       "\n",
       "     weight  \n",
       "0        80  \n",
       "1        80  \n",
       "2        80  \n",
       "3        80  \n",
       "4        80  \n",
       "..      ...  \n",
       "252      69  \n",
       "253      73  \n",
       "254      73  \n",
       "255      67  \n",
       "256      84  \n",
       "\n",
       "[257 rows x 6 columns]"
      ]
     },
     "execution_count": 22,
     "metadata": {},
     "output_type": "execute_result"
    }
   ],
   "source": [
    "data_df"
   ]
  },
  {
   "cell_type": "markdown",
   "metadata": {},
   "source": [
    "Defining the function for extracting face data"
   ]
  },
  {
   "cell_type": "code",
   "execution_count": 23,
   "metadata": {
    "id": "WnvejAv5RJM1"
   },
   "outputs": [],
   "source": [
    "def my_face_encoding(image_path):\n",
    "    print(image_path)\n",
    "    logging.info(\"Getting face encoding for image %s\", image_path)\n",
    "    picture_of_me = face_recognition.load_image_file(image_path)\n",
    "    my_face_encoding = face_recognition.face_encodings(picture_of_me)\n",
    "    if not my_face_encoding:\n",
    "        print(\"no face found !!!\")\n",
    "        logging.warning(\"No face found in image %s\", image_path)\n",
    "        return np.zeros(128).tolist()\n",
    "    return my_face_encoding[0].tolist()"
   ]
  },
  {
   "cell_type": "code",
   "execution_count": 24,
   "metadata": {
    "id": "-d2GTl9DRJM3"
   },
   "outputs": [],
   "source": [
    "tot_faces = []"
   ]
  },
  {
   "cell_type": "markdown",
   "metadata": {},
   "source": [
    "iteration and appending"
   ]
  },
  {
   "cell_type": "code",
   "execution_count": 25,
   "metadata": {
    "colab": {
     "base_uri": "https://localhost:8080/"
    },
    "id": "ugSwX83rRJM8",
    "outputId": "9dc8d7bd-707f-4208-f8d1-52771b15a621"
   },
   "outputs": [
    {
     "name": "stdout",
     "output_type": "stream",
     "text": [
      "sample_faces\\akshay1.jpeg\n",
      "sample_faces\\akshay10.jpg\n",
      "sample_faces\\akshay11.jpg\n",
      "sample_faces\\akshay12.jpg\n",
      "sample_faces\\akshay13.jpg\n",
      "sample_faces\\akshay14.jpg\n",
      "sample_faces\\akshay15.jpg\n",
      "sample_faces\\akshay16.jpg\n",
      "sample_faces\\akshay17.jpg\n",
      "sample_faces\\akshay18.jpg\n",
      "sample_faces\\akshay19.jpg\n",
      "sample_faces\\akshay2.jpeg\n",
      "no face found !!!\n",
      "sample_faces\\akshay20.jpg\n",
      "sample_faces\\akshay3.jpg\n",
      "sample_faces\\akshay4.jpg\n",
      "sample_faces\\akshay5.jpg\n",
      "sample_faces\\akshay6.jpg\n",
      "sample_faces\\akshay7.jpg\n",
      "sample_faces\\akshay8.jpg\n",
      "sample_faces\\akshay9.jpg\n",
      "sample_faces\\amir1.jpg\n",
      "sample_faces\\amir10.jpg\n",
      "sample_faces\\amir11.jpg\n",
      "sample_faces\\amir12.jpg\n",
      "sample_faces\\amir13.jpg\n",
      "sample_faces\\amir14.jpeg\n",
      "sample_faces\\amir15.jpg\n",
      "sample_faces\\amir2.jpg\n",
      "sample_faces\\amir3.jpg\n",
      "sample_faces\\amir4.jpeg\n",
      "no face found !!!\n",
      "sample_faces\\amir5.jpg\n",
      "sample_faces\\amir6.PNG\n",
      "sample_faces\\amir7.jpeg\n",
      "sample_faces\\amir8.jpg\n",
      "sample_faces\\amir9.jpg\n",
      "sample_faces\\anupam2.jpg\n",
      "sample_faces\\anupam3.jpg\n",
      "sample_faces\\anupam4.jpg\n",
      "sample_faces\\anupam5.jpg\n",
      "sample_faces\\anupam6.jpg\n",
      "sample_faces\\anupam7.jpeg\n",
      "sample_faces\\anupam8.jpg\n",
      "sample_faces\\anurag1.jpg\n",
      "sample_faces\\anurag2.jpg\n",
      "sample_faces\\anurag3.jpg\n",
      "sample_faces\\anurag4.jpg\n",
      "sample_faces\\anurag5.jpg\n",
      "sample_faces\\arshad1.jpg\n",
      "sample_faces\\arshad10.jpg\n",
      "sample_faces\\arshad11.jpg\n",
      "sample_faces\\arshad12.jpeg\n",
      "sample_faces\\arshad13.jpg\n",
      "sample_faces\\arshad14.jpg\n",
      "sample_faces\\arshad15.jpg\n",
      "sample_faces\\arshad16.jpg\n",
      "sample_faces\\arshad2.jpg\n",
      "sample_faces\\arshad3.jpeg\n",
      "sample_faces\\arshad4.jpg\n",
      "sample_faces\\arshad5.jpg\n",
      "sample_faces\\arshad6.jpg\n",
      "sample_faces\\arshad7.jpeg\n",
      "sample_faces\\arshad8.jpeg\n",
      "sample_faces\\arshad9.jpg\n",
      "sample_faces\\arya1.jpg\n",
      "sample_faces\\ayushman1.jpg\n",
      "sample_faces\\ayushman2.jpeg\n",
      "sample_faces\\ayushman3.JPG\n",
      "sample_faces\\ayushman4.jpg\n",
      "sample_faces\\ayushman5.jpg\n",
      "sample_faces\\bharath1.jpg\n",
      "sample_faces\\dhanush1.jpg\n",
      "sample_faces\\harishkalyan1.jpg\n",
      "sample_faces\\ja1.jpg\n",
      "sample_faces\\ja10.jpg\n",
      "sample_faces\\ja11.jpg\n",
      "sample_faces\\ja12.jpg\n",
      "sample_faces\\ja13.jpeg\n",
      "sample_faces\\ja14.jpg\n",
      "sample_faces\\ja15.jpg\n",
      "sample_faces\\ja2.jpg\n",
      "sample_faces\\ja3.jpg\n",
      "sample_faces\\ja4.jpg\n",
      "sample_faces\\ja5.jpg\n",
      "sample_faces\\ja6.jpg\n",
      "sample_faces\\ja7.jpg\n",
      "sample_faces\\ja8.jpg\n",
      "sample_faces\\ja9.jpg\n",
      "sample_faces\\jayamravi1.jpg\n",
      "sample_faces\\jeevan1.jpg\n",
      "sample_faces\\kalki1.jpg\n",
      "sample_faces\\kalki10.jpg\n",
      "sample_faces\\kalki11.jpg\n",
      "sample_faces\\kalki12.jpg\n",
      "sample_faces\\kalki13.jpeg\n",
      "sample_faces\\kalki14.jpg\n",
      "sample_faces\\kalki15.jpg\n",
      "sample_faces\\kalki2.jpg\n",
      "sample_faces\\kalki3.jpeg\n",
      "sample_faces\\kalki4.jpg\n",
      "sample_faces\\kalki5.jpg\n",
      "sample_faces\\kalki6.jpg\n",
      "sample_faces\\kalki7.jpg\n",
      "sample_faces\\kalki8.jpg\n",
      "sample_faces\\kalki9.jpg\n",
      "sample_faces\\kirron1.jpg\n",
      "sample_faces\\kirron10.jpg\n",
      "sample_faces\\kirron2.jpg\n",
      "sample_faces\\kirron3.jpg\n",
      "sample_faces\\kirron4.jpg\n",
      "sample_faces\\kirron5.jpg\n",
      "sample_faces\\kirron6.jpg\n",
      "sample_faces\\kirron7.jpg\n",
      "sample_faces\\kirron8.jpg\n",
      "sample_faces\\kirron9.jpeg\n",
      "sample_faces\\krishna1.jpg\n",
      "sample_faces\\lawrence1.jpg\n",
      "sample_faces\\madhavan1.jpg\n",
      "sample_faces\\manoj1.jpg\n",
      "sample_faces\\manoj2.jpeg\n",
      "sample_faces\\manoj3.jpg\n",
      "sample_faces\\manoj4.jpg\n",
      "sample_faces\\manoj5.JPG\n",
      "sample_faces\\nakul1.jpg\n",
      "sample_faces\\nandha1.jpg\n",
      "sample_faces\\naraian1.jpg\n",
      "sample_faces\\navdeep1.jpg\n",
      "sample_faces\\nawaz1.jpg\n",
      "sample_faces\\nawaz2.jpg\n",
      "sample_faces\\nawaz3.jpg\n",
      "sample_faces\\nawaz4.jpg\n",
      "sample_faces\\nawaz5.png\n",
      "sample_faces\\pankaj1.jpg\n",
      "sample_faces\\pankaj2.jpg\n",
      "sample_faces\\pankaj3.jpg\n",
      "sample_faces\\pankaj5.jpg\n",
      "sample_faces\\pankaj6.jpg\n",
      "sample_faces\\pritiviraj1.jpg\n",
      "sample_faces\\radhika1.jpg\n",
      "sample_faces\\radhika10.jpg\n",
      "sample_faces\\radhika11.jpg\n",
      "sample_faces\\radhika12.jpg\n",
      "sample_faces\\radhika13.jpg\n",
      "sample_faces\\radhika14.jpg\n",
      "sample_faces\\radhika15.jpg\n",
      "sample_faces\\radhika2.jpeg\n",
      "sample_faces\\radhika3.jpg\n",
      "sample_faces\\radhika4.jpg\n",
      "sample_faces\\radhika5.jpg\n",
      "sample_faces\\radhika6.jpg\n",
      "sample_faces\\radhika7.jpg\n",
      "sample_faces\\radhika8.jpg\n",
      "sample_faces\\radhika9.jpg\n",
      "sample_faces\\rajkumar1.jpg\n",
      "sample_faces\\rajkumar2.jpg\n",
      "sample_faces\\rajkumar3.jpg\n",
      "sample_faces\\rajkumar4.jpg\n",
      "sample_faces\\rajkumar5.jpg\n",
      "sample_faces\\ratna1.jpeg\n",
      "sample_faces\\ratna2.jpg\n",
      "sample_faces\\ratna3.jpg\n",
      "sample_faces\\ratna4.JPG\n",
      "sample_faces\\ratna5.jpg\n",
      "sample_faces\\ratna6.jpg\n",
      "sample_faces\\richa2.jpg\n",
      "sample_faces\\richa3.JPG\n",
      "sample_faces\\richa4.jpg\n",
      "sample_faces\\richa5.jpg\n",
      "sample_faces\\rjbalaji1.jpg\n",
      "sample_faces\\salman1.jpg\n",
      "sample_faces\\salman10.jpg\n",
      "sample_faces\\salman11.jpg\n",
      "sample_faces\\salman12.jpg\n",
      "sample_faces\\salman13.jpg\n",
      "sample_faces\\salman14.jpg\n",
      "sample_faces\\salman15.jpg\n",
      "sample_faces\\salman16.jpg\n",
      "sample_faces\\salman17.jpg\n",
      "sample_faces\\salman18.jpg\n",
      "sample_faces\\salman19.jpg\n",
      "sample_faces\\salman2.jpg\n",
      "sample_faces\\salman20.jpg\n",
      "sample_faces\\salman3.jpg\n",
      "sample_faces\\salman4.jpg\n",
      "sample_faces\\salman5.jpeg\n",
      "sample_faces\\salman6.jpg\n",
      "sample_faces\\salman7.jpg\n",
      "sample_faces\\salman8.jpg\n",
      "sample_faces\\salman9.jpg\n",
      "sample_faces\\samuthirakani1.jpg\n",
      "sample_faces\\sandhanam1.jpg\n",
      "sample_faces\\siddharth1.jpg\n",
      "sample_faces\\simbu1.jpg\n",
      "sample_faces\\sjsurya1.jpg\n",
      "sample_faces\\srikanth1.jpg\n",
      "sample_faces\\srk1.jpg\n",
      "sample_faces\\srk10.jpeg\n",
      "sample_faces\\srk11.jpg\n",
      "sample_faces\\srk12.jpg\n",
      "sample_faces\\srk13.jpg\n",
      "sample_faces\\srk14.jpg\n",
      "sample_faces\\srk15.jpg\n",
      "sample_faces\\srk16.jpg\n",
      "sample_faces\\srk17.jpg\n",
      "sample_faces\\srk18.jpg\n",
      "sample_faces\\srk19.jpg\n",
      "sample_faces\\srk2.jpg\n",
      "sample_faces\\srk3.jpeg\n",
      "no face found !!!\n",
      "sample_faces\\srk4.jpg\n",
      "sample_faces\\srk5.jpg\n",
      "sample_faces\\srk6.jpg\n",
      "sample_faces\\srk7.jpg\n",
      "sample_faces\\srk8.jpg\n",
      "sample_faces\\srk9.jpg\n",
      "sample_faces\\supriya1.jpg\n",
      "sample_faces\\supriya2.jpg\n",
      "sample_faces\\supriya3.jpg\n",
      "sample_faces\\supriya4.jpg\n",
      "sample_faces\\supriya5.jpg\n",
      "sample_faces\\supriya6.jpg\n",
      "sample_faces\\tiger1.jpg\n",
      "sample_faces\\tiger2.jpg\n",
      "sample_faces\\tiger4.jpg\n",
      "sample_faces\\tiger5.jpg\n",
      "sample_faces\\tiger6.jpg\n",
      "sample_faces\\varun1.jpg\n",
      "sample_faces\\varun2.jpg\n",
      "sample_faces\\varun3.jpg\n",
      "sample_faces\\varun4.jpeg\n",
      "sample_faces\\varun5.png\n",
      "sample_faces\\varun6.jpeg\n",
      "sample_faces\\vijay1.jpg\n",
      "sample_faces\\vikky1.jpg\n",
      "sample_faces\\vikky10.jpg\n",
      "sample_faces\\vikky11.jpg\n",
      "sample_faces\\vikky12.jpg\n",
      "sample_faces\\vikky13.jpg\n",
      "sample_faces\\vikky14.jpg\n",
      "sample_faces\\vikky15.jpg\n",
      "sample_faces\\vikky16.jpg\n",
      "sample_faces\\vikky17.jpg\n",
      "sample_faces\\vikky18.jpg\n",
      "sample_faces\\vikky19.jpg\n",
      "sample_faces\\vikky2.jpg\n",
      "sample_faces\\vikky20.jpg\n",
      "sample_faces\\vikky3.jpg\n",
      "sample_faces\\vikky4.jpg\n",
      "sample_faces\\vikky5.jpg\n",
      "sample_faces\\vikky6.jpg\n",
      "sample_faces\\vikky7.jpg\n",
      "sample_faces\\vikky8.jpg\n",
      "sample_faces\\vikky9.jpg\n",
      "sample_faces\\vikranth1.jpg\n",
      "sample_faces\\vimal1.jpg\n",
      "sample_faces\\vishal1.jpg\n",
      "sample_faces\\vishnuvishal1.jpg\n",
      "sample_faces\\vjantony1.jpg\n",
      "sample_faces\\vjsethu1.jpg\n"
     ]
    }
   ],
   "source": [
    "for images in data_df.path:\n",
    "    face_enc = my_face_encoding(images)\n",
    "    tot_faces.append(face_enc)"
   ]
  },
  {
   "cell_type": "code",
   "execution_count": 26,
   "metadata": {
    "id": "J_RJ8zMURJM9"
   },
   "outputs": [],
   "source": [
    "X = np.array(tot_faces)"
   ]
  },
  {
   "cell_type": "code",
   "execution_count": 27,
   "metadata": {
    "id": "ErowbAzJRJM-"
   },
   "outputs": [],
   "source": [
    "y_height = data_df.height.values\n",
    "y_weight = data_df.weight.values"
   ]
  },
  {
   "cell_type": "markdown",
   "metadata": {},
   "source": [
    "splitting the dataset"
   ]
  },
  {
   "cell_type": "code",
   "execution_count": 28,
   "metadata": {
    "id": "AJivJdslRJND"
   },
   "outputs": [],
   "source": [
    "from sklearn.model_selection import train_test_split"
   ]
  },
  {
   "cell_type": "code",
   "execution_count": 29,
   "metadata": {
    "id": "d2v1xmWbRJNF"
   },
   "outputs": [],
   "source": [
    "X_train, X_test, y_height_train, y_height_test, y_weight_train, y_weight_test = train_test_split(X, y_height,y_weight, random_state=1)"
   ]
  },
  {
   "cell_type": "markdown",
   "metadata": {
    "id": "u9olli-IRJNH"
   },
   "source": [
    "Converting the data Type into float"
   ]
  },
  {
   "cell_type": "code",
   "execution_count": 30,
   "metadata": {
    "id": "1sPyMGDQRJNP"
   },
   "outputs": [],
   "source": [
    "y_height_train=y_height_train.astype(float)\n",
    "y_height_test=y_height_test.astype(float)\n",
    "y_weight_train=y_weight_train.astype(float)\n",
    "y_weight_test=y_weight_test.astype(float)"
   ]
  },
  {
   "cell_type": "markdown",
   "metadata": {
    "id": "3ZaZO_J4RJNU"
   },
   "source": [
    "Obtaining the shape of the training data"
   ]
  },
  {
   "cell_type": "code",
   "execution_count": 31,
   "metadata": {
    "colab": {
     "base_uri": "https://localhost:8080/"
    },
    "id": "T97noavQRJNV",
    "outputId": "7eec7dae-5f0f-4456-e90b-93ca0475d941"
   },
   "outputs": [
    {
     "name": "stdout",
     "output_type": "stream",
     "text": [
      "(192, 128)\n"
     ]
    }
   ],
   "source": [
    "print(X_train.shape)"
   ]
  },
  {
   "cell_type": "markdown",
   "metadata": {
    "id": "dw61Oqo0RJNY"
   },
   "source": [
    "Training the model with CNN (Convolutional Neural Network)"
   ]
  },
  {
   "cell_type": "markdown",
   "metadata": {
    "id": "ScfSGjZnRJNZ"
   },
   "source": [
    "Developing height model"
   ]
  },
  {
   "cell_type": "code",
   "execution_count": 32,
   "metadata": {
    "colab": {
     "base_uri": "https://localhost:8080/"
    },
    "id": "1dB8VNPvRJNZ",
    "outputId": "0bc726d4-2943-4293-b120-d5f65ba7cb92"
   },
   "outputs": [
    {
     "name": "stdout",
     "output_type": "stream",
     "text": [
      "WARNING:tensorflow:From E:\\abc\\lib\\site-packages\\keras\\src\\backend.py:873: The name tf.get_default_graph is deprecated. Please use tf.compat.v1.get_default_graph instead.\n",
      "\n",
      "WARNING:tensorflow:From E:\\abc\\lib\\site-packages\\keras\\src\\backend.py:6642: The name tf.nn.max_pool is deprecated. Please use tf.nn.max_pool2d instead.\n",
      "\n",
      "WARNING:tensorflow:From E:\\abc\\lib\\site-packages\\keras\\src\\optimizers\\__init__.py:309: The name tf.train.Optimizer is deprecated. Please use tf.compat.v1.train.Optimizer instead.\n",
      "\n",
      "Epoch 1/13\n",
      "WARNING:tensorflow:From E:\\abc\\lib\\site-packages\\keras\\src\\utils\\tf_utils.py:492: The name tf.ragged.RaggedTensorValue is deprecated. Please use tf.compat.v1.ragged.RaggedTensorValue instead.\n",
      "\n",
      "WARNING:tensorflow:From E:\\abc\\lib\\site-packages\\keras\\src\\engine\\base_layer_utils.py:384: The name tf.executing_eagerly_outside_functions is deprecated. Please use tf.compat.v1.executing_eagerly_outside_functions instead.\n",
      "\n",
      "192/192 [==============================] - 3s 8ms/step - loss: 0.0063 - mae: 0.0502\n",
      "Epoch 2/13\n",
      "192/192 [==============================] - 2s 8ms/step - loss: 0.0015 - mae: 0.0296\n",
      "Epoch 3/13\n",
      "192/192 [==============================] - 2s 9ms/step - loss: 9.7661e-04 - mae: 0.0238\n",
      "Epoch 4/13\n",
      "192/192 [==============================] - 2s 8ms/step - loss: 7.8666e-04 - mae: 0.0216\n",
      "Epoch 5/13\n",
      "192/192 [==============================] - 2s 8ms/step - loss: 6.7190e-04 - mae: 0.0208\n",
      "Epoch 6/13\n",
      "192/192 [==============================] - 2s 8ms/step - loss: 4.7112e-04 - mae: 0.0176\n",
      "Epoch 7/13\n",
      "192/192 [==============================] - 2s 8ms/step - loss: 7.5919e-04 - mae: 0.0216\n",
      "Epoch 8/13\n",
      "192/192 [==============================] - 2s 8ms/step - loss: 4.1614e-04 - mae: 0.0162\n",
      "Epoch 9/13\n",
      "192/192 [==============================] - 2s 8ms/step - loss: 3.5858e-04 - mae: 0.0154\n",
      "Epoch 10/13\n",
      "192/192 [==============================] - 2s 8ms/step - loss: 4.9173e-04 - mae: 0.0177\n",
      "Epoch 11/13\n",
      "192/192 [==============================] - 2s 8ms/step - loss: 7.1522e-04 - mae: 0.0212\n",
      "Epoch 12/13\n",
      "192/192 [==============================] - 2s 9ms/step - loss: 4.4880e-04 - mae: 0.0162\n",
      "Epoch 13/13\n",
      "192/192 [==============================] - 2s 8ms/step - loss: 4.2688e-04 - mae: 0.0164\n",
      "3/3 [==============================] - 0s 8ms/step - loss: 5.2628e-04 - mae: 0.0178\n",
      "loss of height: 0.0005262807244434953\n",
      "mae of height: 0.017786609008908272\n"
     ]
    },
    {
     "name": "stderr",
     "output_type": "stream",
     "text": [
      "E:\\abc\\lib\\site-packages\\keras\\src\\engine\\training.py:3103: UserWarning: You are saving your model as an HDF5 file via `model.save()`. This file format is considered legacy. We recommend using instead the native Keras format, e.g. `model.save('my_model.keras')`.\n",
      "  saving_api.save_model(\n"
     ]
    }
   ],
   "source": [
    "# Define the model architecture\n",
    "model_height = tf.keras.Sequential([\n",
    "    tf.keras.layers.Reshape((X_train.shape[1], 1), input_shape=(X_train.shape[1],)),\n",
    "    tf.keras.layers.Conv1D(filters=32, kernel_size=3, activation='relu'),\n",
    "    tf.keras.layers.MaxPooling1D(pool_size=2),\n",
    "    tf.keras.layers.Conv1D(filters=64, kernel_size=3, activation='relu'),\n",
    "    tf.keras.layers.MaxPooling1D(pool_size=2),\n",
    "    tf.keras.layers.Conv1D(filters=128, kernel_size=3, activation='relu'),\n",
    "    tf.keras.layers.MaxPooling1D(pool_size=2),\n",
    "    tf.keras.layers.Flatten(),\n",
    "    tf.keras.layers.Dense(units=128, activation='relu'),\n",
    "    tf.keras.layers.Dense(units=1, activation='relu')\n",
    "    ])\n",
    "model_height.compile(loss='mse', optimizer='adam',metrics=['mae'])\n",
    "\n",
    "# Fit the model to the training data\n",
    "model_height.fit(X_train, np.log(y_height_train), epochs=13, batch_size=1)\n",
    "\n",
    "# Evaluate the model on the test data\n",
    "test_loss_height_cnn,test_height_accuracy = model_height.evaluate(X_test, np.log(y_height_test))\n",
    "\n",
    "#logging \n",
    "logging.info(\"model height loss : %f, mae : %f\", test_loss_height_cnn,test_height_accuracy)\n",
    "\n",
    "#printing the metrics\n",
    "print('loss of height:', test_loss_height_cnn)\n",
    "print('mae of height:', test_height_accuracy)\n",
    "\n",
    "#saving the model\n",
    "model_height.save('height_model.h5')\n"
   ]
  },
  {
   "cell_type": "markdown",
   "metadata": {
    "id": "0v16IVyrRJNc"
   },
   "source": [
    "Developing weight model"
   ]
  },
  {
   "cell_type": "code",
   "execution_count": 33,
   "metadata": {
    "colab": {
     "base_uri": "https://localhost:8080/"
    },
    "id": "D05eeD6KgWMw",
    "outputId": "7548fd97-7a89-44de-b6bb-61e9186fbc4d"
   },
   "outputs": [
    {
     "name": "stdout",
     "output_type": "stream",
     "text": [
      "Epoch 1/13\n",
      "192/192 [==============================] - 3s 5ms/step - loss: 6.5964 - mae: 1.7441\n",
      "Epoch 2/13\n",
      "192/192 [==============================] - 1s 5ms/step - loss: 0.0795 - mae: 0.1932\n",
      "Epoch 3/13\n",
      "192/192 [==============================] - 1s 5ms/step - loss: 0.0695 - mae: 0.1905\n",
      "Epoch 4/13\n",
      "192/192 [==============================] - 1s 5ms/step - loss: 0.0470 - mae: 0.1508\n",
      "Epoch 5/13\n",
      "192/192 [==============================] - 1s 5ms/step - loss: 0.0493 - mae: 0.1679\n",
      "Epoch 6/13\n",
      "192/192 [==============================] - 1s 5ms/step - loss: 0.0486 - mae: 0.1716\n",
      "Epoch 7/13\n",
      "192/192 [==============================] - 1s 5ms/step - loss: 0.0270 - mae: 0.1240\n",
      "Epoch 8/13\n",
      "192/192 [==============================] - 1s 5ms/step - loss: 0.0258 - mae: 0.1175\n",
      "Epoch 9/13\n",
      "192/192 [==============================] - 1s 5ms/step - loss: 0.0172 - mae: 0.0996\n",
      "Epoch 10/13\n",
      "192/192 [==============================] - 1s 5ms/step - loss: 0.0169 - mae: 0.1020\n",
      "Epoch 11/13\n",
      "192/192 [==============================] - 1s 5ms/step - loss: 0.0204 - mae: 0.1156\n",
      "Epoch 12/13\n",
      "192/192 [==============================] - 1s 5ms/step - loss: 0.0147 - mae: 0.0912\n",
      "Epoch 13/13\n",
      "192/192 [==============================] - 1s 5ms/step - loss: 0.0105 - mae: 0.0840\n",
      "3/3 [==============================] - 0s 8ms/step - loss: 0.0069 - mae: 0.0649\n",
      "loss of weight: 0.006913198623806238\n",
      "mae of weight: 0.06485950946807861\n"
     ]
    }
   ],
   "source": [
    "model_weight = tf.keras.Sequential([\n",
    "    tf.keras.layers.Reshape((X_train.shape[1], 1), input_shape=(X_train.shape[1],)),\n",
    "    tf.keras.layers.Conv1D(filters=32, kernel_size=3, activation='relu'),\n",
    "    tf.keras.layers.MaxPooling1D(pool_size=2),\n",
    "    tf.keras.layers.Conv1D(filters=64, kernel_size=3, activation='relu'),\n",
    "    tf.keras.layers.MaxPooling1D(pool_size=2),\n",
    "    tf.keras.layers.Conv1D(filters=128, kernel_size=3, activation='relu'),\n",
    "    tf.keras.layers.MaxPooling1D(pool_size=2),\n",
    "    tf.keras.layers.Flatten(),\n",
    "    tf.keras.layers.Dense(units=64, activation='relu'),\n",
    "    tf.keras.layers.Dense(units=1, activation='relu')\n",
    "])\n",
    "\n",
    "model_weight.compile(loss='mse', optimizer='adam', metrics=['mae'])\n",
    "\n",
    "model_weight.fit(X_train, np.log(y_weight_train), epochs=13, batch_size=1)\n",
    "\n",
    "test_loss_weight_cnn, test_weight_accuracy = model_weight.evaluate(X_test, np.log(y_weight_test))\n",
    "\n",
    "logging.info(\"model weight loss : %f, mae : %f\", test_loss_weight_cnn,test_weight_accuracy)\n",
    "print('loss of weight:', test_loss_weight_cnn)\n",
    "print('mae of weight:', test_weight_accuracy)\n",
    "\n",
    "#saving the model\n",
    "model_weight.save('weight_model.h5')\n"
   ]
  },
  {
   "cell_type": "code",
   "execution_count": 34,
   "metadata": {
    "id": "OGsejAFARJNp"
   },
   "outputs": [],
   "source": [
    "#load the models\n",
    "\n",
    "height_model = tf.keras.models.load_model('height_model.h5')\n",
    "weight_model = tf.keras.models.load_model('weight_model.h5')\n",
    "\n",
    "\n",
    "def predict_height_weight_BMI(input_img,height_model,weight_model):\n",
    "    logging.info(\"Predicting height, weight, and BMI for image %s\", input_img)\n",
    "    start_time = time.time()\n",
    "    test_array = np.expand_dims(np.array(my_face_encoding(input_img)),axis=0)\n",
    "    height = np.ndarray.item(np.exp(height_model.predict(test_array)))\n",
    "    weight = np.ndarray.item(np.exp(weight_model.predict(test_array)))\n",
    "    bmi = weight / (height)**2\n",
    "    end_time = time.time()\n",
    "    runtime = end_time - start_time\n",
    "    logging.info(\"Predicted height: %f, weight: %f, BMI: %f, runtime : %s\", height, weight, bmi, runtime)\n",
    "    return {'height':height,\"weight\":weight,\"bmi\":bmi,'runtime':runtime}\n"
   ]
  },
  {
   "cell_type": "markdown",
   "metadata": {
    "id": "JRZVeViRRJNq"
   },
   "source": [
    "for code level deployment"
   ]
  },
  {
   "cell_type": "code",
   "execution_count": 35,
   "metadata": {
    "id": "KXh5Zg_gRJNr"
   },
   "outputs": [],
   "source": [
    "from IPython.display import Image"
   ]
  },
  {
   "cell_type": "code",
   "execution_count": 36,
   "metadata": {
    "colab": {
     "base_uri": "https://localhost:8080/",
     "height": 347
    },
    "id": "hcz9nSQJRJNs",
    "outputId": "15138acf-a003-4671-f52d-d73aabd3e192"
   },
   "outputs": [
    {
     "data": {
      "image/jpeg": "[encoded data removed]",
      "text/plain": [
       "<IPython.core.display.Image object>"
      ]
     },
     "execution_count": 36,
     "metadata": {},
     "output_type": "execute_result"
    }
   ],
   "source": [
    "input_img = 'sample_faces/akshay1.jpeg'\n",
    "Image(input_img)"
   ]
  },
  {
   "cell_type": "code",
   "execution_count": 37,
   "metadata": {
    "colab": {
     "base_uri": "https://localhost:8080/"
    },
    "id": "45rIX_9xRJNu",
    "outputId": "1d3bbb48-9b96-49df-95e8-54a5eaccb470"
   },
   "outputs": [
    {
     "name": "stdout",
     "output_type": "stream",
     "text": [
      "sample_faces/akshay1.jpeg\n",
      "1/1 [==============================] - 0s 172ms/step\n",
      "1/1 [==============================] - 0s 141ms/step\n"
     ]
    },
    {
     "data": {
      "text/plain": [
       "{'height': 1.7767481803894043,\n",
       " 'weight': 79.6153793334961,\n",
       " 'bmi': 25.22000741861471,\n",
       " 'runtime': 1.0312461853027344}"
      ]
     },
     "execution_count": 37,
     "metadata": {},
     "output_type": "execute_result"
    }
   ],
   "source": [
    "predict_height_weight_BMI(input_img,height_model,weight_model)"
   ]
  },
  {
   "cell_type": "code",
   "execution_count": null,
   "metadata": {},
   "outputs": [
    {
     "name": "stderr",
     "output_type": "stream",
     "text": [
      "C:\\Users\\LENOVO L460\\AppData\\Local\\Temp\\ipykernel_11112\\889180239.py:66: DeprecationWarning: LANCZOS is deprecated and will be removed in Pillow 10 (2023-07-01). Use Resampling.LANCZOS instead.\n",
      "  background_image = background_image.resize((400, 500), Image.LANCZOS)\n"
     ]
    }
   ],
   "source": [
    "import tkinter as tk\n",
    "from tkinter import filedialog\n",
    "from PIL import ImageTk, Image\n",
    "import cv2\n",
    "\n",
    "# Load the height, weight, and BMI models\n",
    "height_model = tf.keras.models.load_model('height_model.h5')\n",
    "weight_model = tf.keras.models.load_model('weight_model.h5')\n",
    "\n",
    "# Define the function to predict height, weight, and BMI\n",
    "def predict_height_weight_BMI(input_img, height_model, weight_model):\n",
    "    logging.info(\"Predicting height, weight, and BMI for image %s\", input_img)\n",
    "    test_array = np.expand_dims(np.array(my_face_encoding(input_img)),axis=0)\n",
    "    height = np.ndarray.item(np.exp(height_model.predict(test_array)))\n",
    "    weight = np.ndarray.item(np.exp(weight_model.predict(test_array)))\n",
    "    bmi = weight / (height)**2\n",
    "    logging.info(\"Predicted height: %f, weight: %f, BMI: %f\", height, weight, bmi)\n",
    "    return {'height':height, \"weight\":weight, \"bmi\":bmi}\n",
    "\n",
    "def browse_file():\n",
    "    file_path = filedialog.askopenfilename()\n",
    "    if file_path:\n",
    "        image = Image.open(file_path)\n",
    "        image = image.resize((300, 300), Image.LANCZOS)\n",
    "        photo = ImageTk.PhotoImage(image)\n",
    "        canvas.image = photo  # Save a reference to the image to prevent it from being garbage collected\n",
    "        image_id = canvas.create_image(0, 0, anchor='nw', image=photo)  # Create image_id when loading a new image\n",
    "        result = predict_height_weight_BMI(file_path, height_model, weight_model)\n",
    "        result_label.config(text=f\"Height: {result['height']:.2f}\\nWeight: {result['weight']:.2f}\\nBMI: {result['bmi']:.2f}\")\n",
    "\n",
    "def capture_image():\n",
    "    cap = cv2.VideoCapture(0)\n",
    "    cap.set(3, 640)\n",
    "    cap.set(4, 480)\n",
    "\n",
    "    while True:\n",
    "        ret, frame = cap.read()\n",
    "        if ret:\n",
    "            cv2.imshow('frame', frame)\n",
    "            if cv2.waitKey(1) & 0xFF == ord('q'):\n",
    "                cv2.imwrite('captured_image.jpg', frame)\n",
    "                new_image = Image.open('captured_image.jpg')\n",
    "                new_image = new_image.resize((300, 300), Image.LANCZOS)\n",
    "                photo = ImageTk.PhotoImage(new_image)\n",
    "                canvas.image = photo  # Save a reference to the image\n",
    "                image_id = canvas.create_image(0, 0, anchor='nw', image=photo)  # Create image_id when loading a new image\n",
    "                result = predict_height_weight_BMI('captured_image.jpg', height_model, weight_model)\n",
    "                result_label.config(text=f\"Height: {result['height']:.2f}\\nWeight: {result['weight']:.2f}\\nBMI: {result['bmi']:.2f}\")\n",
    "                break\n",
    "\n",
    "    cap.release()\n",
    "    cv2.destroyAllWindows()\n",
    "\n",
    "def clear_display():\n",
    "    canvas.delete(image_id)  # Delete the image from the canvas\n",
    "    canvas.image = None  # Remove the reference to the current image\n",
    "    result_label.config(text=\"\")  # Clear the result text\n",
    "\n",
    "\n",
    "root = tk.Tk()\n",
    "root.title(\"Body Mass Index from Face Images\")\n",
    "root.iconbitmap(r'C:\\Users\\LENOVO L460\\Downloads\\Body-Mass-Index-from-Face-Images-main\\Body-Mass-Index-from-Face-Images-main\\bmi.ico')\n",
    "\n",
    "\n",
    "background_image = Image.open(\"Capture.PNG\")\n",
    "background_image = background_image.resize((400, 500), Image.LANCZOS)\n",
    "background_image = ImageTk.PhotoImage(background_image)\n",
    "background_label = tk.Label(root, image=background_image)\n",
    "background_label.place(x=0, y=0, relwidth=1, relheight=1)\n",
    "\n",
    "canvas_frame = tk.Frame(root, width=300, height=300)\n",
    "canvas_frame.pack(pady=20)\n",
    "\n",
    "canvas = tk.Canvas(canvas_frame, width=300, height=300)\n",
    "canvas.pack()\n",
    "\n",
    "result_frame = tk.Frame(root)\n",
    "result_frame.pack(pady=10)\n",
    "\n",
    "result_label = tk.Label(result_frame, font=(\"Arial\", 14), bg='white')\n",
    "result_label.pack()\n",
    "\n",
    "button_frame = tk.Frame(root)\n",
    "button_frame.pack(pady=10)\n",
    "\n",
    "browse_button = tk.Button(button_frame, text=\"Browse the Image\", command=browse_file, bg='skyblue', fg='black', relief='solid')\n",
    "browse_button.pack(side=tk.LEFT, padx=10)\n",
    "\n",
    "capture_button = tk.Button(button_frame, text=\"Capture Using Webcam\", command=capture_image, bg='pink', fg='black', relief='solid')\n",
    "capture_button.pack(side=tk.LEFT, padx=10)\n",
    "\n",
    "clear_button = tk.Button(button_frame, text=\"Clear the Result\", command=clear_display, bg='orange', fg='black', relief='solid')\n",
    "clear_button.pack(side=tk.LEFT, padx=10)\n",
    "\n",
    "image_id = canvas.create_image(0, 0, anchor='nw')\n",
    "\n",
    "root.geometry(\"400x500\")\n",
    "root.resizable(False, False)  # Disable resizing\n",
    "root.mainloop()\n",
    "\n"
   ]
  },
  {
   "cell_type": "code",
   "execution_count": null,
   "metadata": {},
   "outputs": [],
   "source": [
    "import tkinter as tk\n",
    "from tkinter import filedialog\n",
    "from PIL import ImageTk, Image\n",
    "import cv2\n",
    "import numpy as np\n",
    "import tensorflow as tf\n",
    "import logging\n",
    "\n",
    "# Load the height, weight, and BMI models\n",
    "height_model = tf.keras.models.load_model('height_model.h5')\n",
    "weight_model = tf.keras.models.load_model('weight_model.h5')\n",
    "\n",
    "# Configure logging\n",
    "logging.basicConfig(level=logging.INFO)\n",
    "\n",
    "# Define the function to predict height, weight, and BMI\n",
    "def predict_height_weight_BMI(input_img, height_model, weight_model):\n",
    "    logging.info(\"Predicting height, weight, and BMI for image %s\", input_img)\n",
    "    test_array = np.expand_dims(np.array(my_face_encoding(input_img)), axis=0)\n",
    "    height = np.ndarray.item(np.exp(height_model.predict(test_array)))\n",
    "    weight = np.ndarray.item(np.exp(weight_model.predict(test_array)))\n",
    "    bmi = weight / (height)**2\n",
    "    logging.info(\"Predicted height: %f, weight: %f, BMI: %f\", height, weight, bmi)\n",
    "    return {'height': height, \"weight\": weight, \"bmi\": bmi}\n",
    "\n",
    "def browse_file():\n",
    "    file_path = filedialog.askopenfilename()\n",
    "    if file_path:\n",
    "        image = Image.open(file_path)\n",
    "        image = image.resize((300, 300), Image.LANCZOS)\n",
    "        photo = ImageTk.PhotoImage(image)\n",
    "        canvas.image = photo  # Save a reference to the image\n",
    "        canvas.create_image(0, 0, anchor='nw', image=photo)  # Create image_id when loading a new image\n",
    "        result = predict_height_weight_BMI(file_path, height_model, weight_model)\n",
    "        result_label.config(text=f\"Height: {result['height']:.2f}\\nWeight: {result['weight']:.2f}\\nBMI: {result['bmi']:.2f}\")\n",
    "\n",
    "def capture_image():\n",
    "    cap = cv2.VideoCapture(0)\n",
    "    cap.set(3, 640)\n",
    "    cap.set(4, 480)\n",
    "\n",
    "    while True:\n",
    "        ret, frame = cap.read()\n",
    "        if ret:\n",
    "            cv2.imshow('frame', frame)\n",
    "            if cv2.waitKey(1) & 0xFF == ord('q'):\n",
    "                cv2.imwrite('captured_image.jpg', frame)\n",
    "                new_image = Image.open('captured_image.jpg')\n",
    "                new_image = new_image.resize((300, 300), Image.LANCZOS)\n",
    "                photo = ImageTk.PhotoImage(new_image)\n",
    "                canvas.image = photo  # Save a reference to the image\n",
    "                canvas.create_image(0, 0, anchor='nw', image=photo)  # Create image_id when loading a new image\n",
    "                result = predict_height_weight_BMI('captured_image.jpg', height_model, weight_model)\n",
    "                result_label.config(text=f\"Height: {result['height']:.2f}\\nWeight: {result['weight']:.2f}\\nBMI: {result['bmi']:.2f}\")\n",
    "                break\n",
    "\n",
    "    cap.release()\n",
    "    cv2.destroyAllWindows()\n",
    "\n",
    "def clear_display():\n",
    "    canvas.delete(image_id)  # Delete the image from the canvas\n",
    "    canvas.image = None  # Remove the reference to the current image\n",
    "    result_label.config(text=\"\")  # Clear the result text\n",
    "\n",
    "# Create Tkinter GUI\n",
    "root = tk.Tk()\n",
    "root.title(\"Body Mass Index from Face Images\")\n",
    "\n",
    "# Add GUI components\n",
    "background_image = Image.open(\"Capture.PNG\")\n",
    "background_image = background_image.resize((400, 500), Image.LANCZOS)\n",
    "background_image = ImageTk.PhotoImage(background_image)\n",
    "background_label = tk.Label(root, image=background_image)\n",
    "background_label.place(x=0, y=0, relwidth=1, relheight=1)\n",
    "\n",
    "canvas_frame = tk.Frame(root, width=300, height=300)\n",
    "canvas_frame.pack(pady=20)\n",
    "\n",
    "canvas = tk.Canvas(canvas_frame, width=300, height=300)\n",
    "canvas.pack()\n",
    "\n",
    "result_frame = tk.Frame(root)\n",
    "result_frame.pack(pady=10)\n",
    "\n",
    "result_label = tk.Label(result_frame, font=(\"Arial\", 14), bg='white')\n",
    "result_label.pack()\n",
    "\n",
    "button_frame = tk.Frame(root)\n",
    "button_frame.pack(pady=10)\n",
    "\n",
    "browse_button = tk.Button(button_frame, text=\"Browse the Image\", command=browse_file, bg='skyblue', fg='black', relief='solid')\n",
    "browse_button.pack(side=tk.LEFT, padx=10)\n",
    "\n",
    "capture_button = tk.Button(button_frame, text=\"Capture Using Webcam\", command=capture_image, bg='pink', fg='black', relief='solid')\n",
    "capture_button.pack(side=tk.LEFT, padx=10)\n",
    "\n",
    "clear_button = tk.Button(button_frame, text=\"Clear the Result\", command=clear_display, bg='orange', fg='black', relief='solid')\n",
    "clear_button.pack(side=tk.LEFT, padx=10)\n",
    "\n",
    "image_id = canvas.create_image(0, 0, anchor='nw')\n",
    "\n",
    "root.geometry(\"400x500\")\n",
    "root.resizable(False, False)  # Disable resizing\n",
    "\n",
    "# Start the Tkinter event loop\n",
    "root.mainloop()\n"
   ]
  },
  {
   "cell_type": "code",
   "execution_count": null,
   "metadata": {},
   "outputs": [],
   "source": [
    "import tkinter as tk\n",
    "from tkinter import filedialog\n",
    "from PIL import ImageTk, Image\n",
    "import cv2\n",
    "import numpy as np\n",
    "import tensorflow as tf\n",
    "import logging\n",
    "\n",
    "# Load the height, weight, and BMI models\n",
    "height_model = tf.keras.models.load_model('height_model.h5')\n",
    "weight_model = tf.keras.models.load_model('weight_model.h5')\n",
    "\n",
    "# Configure logging\n",
    "logging.basicConfig(level=logging.INFO)\n",
    "\n",
    "# Define the function to predict height, weight, and BMI\n",
    "def predict_height_weight_BMI(input_img, height_model, weight_model):\n",
    "    logging.info(\"Predicting height, weight, and BMI for image %s\", input_img)\n",
    "    test_array = np.expand_dims(np.array(my_face_encoding(input_img)), axis=0)\n",
    "    height = np.ndarray.item(np.exp(height_model.predict(test_array)))\n",
    "    weight = np.ndarray.item(np.exp(weight_model.predict(test_array)))\n",
    "    bmi = weight / (height)**2\n",
    "    logging.info(\"Predicted height: %f, weight: %f, BMI: %f\", height, weight, bmi)\n",
    "    return {'height': height, \"weight\": weight, \"bmi\": bmi}\n",
    "\n",
    "def browse_file():\n",
    "    file_path = filedialog.askopenfilename()\n",
    "    if file_path:\n",
    "        image = Image.open(file_path)\n",
    "        image = image.resize((300, 300), Image.LANCZOS)\n",
    "        photo = ImageTk.PhotoImage(image)\n",
    "        canvas.image = photo  # Save a reference to the image\n",
    "        canvas.create_image(0, 0, anchor='nw', image=photo)  # Create image_id when loading a new image\n",
    "        result = predict_height_weight_BMI(file_path, height_model, weight_model)\n",
    "        result_label.config(text=f\"Height: {result['height']:.2f}\\nWeight: {result['weight']:.2f}\\nBMI: {result['bmi']:.2f}\")\n",
    "\n",
    "def capture_image():\n",
    "    cap = cv2.VideoCapture(0)\n",
    "    cap.set(3, 640)\n",
    "    cap.set(4, 480)\n",
    "\n",
    "    while True:\n",
    "        ret, frame = cap.read()\n",
    "        if ret:\n",
    "            cv2.imshow('frame', frame)\n",
    "            if cv2.waitKey(1) & 0xFF == ord('q'):\n",
    "                cv2.imwrite('captured_image.jpg', frame)\n",
    "                new_image = Image.open('captured_image.jpg')\n",
    "                new_image = new_image.resize((300, 300), Image.LANCZOS)\n",
    "                photo = ImageTk.PhotoImage(new_image)\n",
    "                canvas.image = photo  # Save a reference to the image\n",
    "                canvas.create_image(0, 0, anchor='nw', image=photo)  # Create image_id when loading a new image\n",
    "                result = predict_height_weight_BMI('captured_image.jpg', height_model, weight_model)\n",
    "                result_label.config(text=f\"Height: {result['height']:.2f}\\nWeight: {result['weight']:.2f}\\nBMI: {result['bmi']:.2f}\")\n",
    "                break\n",
    "\n",
    "    cap.release()\n",
    "    cv2.destroyAllWindows()\n",
    "\n",
    "def clear_display():\n",
    "    canvas.delete(\"all\")  # Delete all items from the canvas\n",
    "    canvas.image = None  # Remove the reference to the current image\n",
    "    result_label.config(text=\"\")  # Clear the result text\n",
    "\n",
    "# Create Tkinter GUI\n",
    "root = tk.Tk()\n",
    "root.title(\"Body Mass Index from Face Images\")\n",
    "\n",
    "# Add GUI components\n",
    "background_image = Image.open(\"Capture.PNG\")\n",
    "background_image = background_image.resize((400, 500), Image.LANCZOS)\n",
    "background_image = ImageTk.PhotoImage(background_image)\n",
    "background_label = tk.Label(root, image=background_image)\n",
    "background_label.image = background_image  # Save a reference to the image\n",
    "background_label.place(x=0, y=0, relwidth=1, relheight=1)\n",
    "\n",
    "canvas_frame = tk.Frame(root, width=300, height=300)\n",
    "canvas_frame.pack(pady=20)\n",
    "\n",
    "canvas = tk.Canvas(canvas_frame, width=300, height=300)\n",
    "canvas.pack()\n",
    "\n",
    "result_frame = tk.Frame(root)\n",
    "result_frame.pack(pady=10)\n",
    "\n",
    "result_label = tk.Label(result_frame, font=(\"Arial\", 14), bg='white')\n",
    "result_label.pack()\n",
    "\n",
    "button_frame = tk.Frame(root)\n",
    "button_frame.pack(pady=10)\n",
    "\n",
    "browse_button = tk.Button(button_frame, text=\"Browse the Image\", command=browse_file, bg='skyblue', fg='black', relief='solid')\n",
    "browse_button.pack(side=tk.LEFT, padx=10)\n",
    "\n",
    "capture_button = tk.Button(button_frame, text=\"Capture Using Webcam\", command=capture_image, bg='pink', fg='black', relief='solid')\n",
    "capture_button.pack(side=tk.LEFT, padx=10)\n",
    "\n",
    "clear_button = tk.Button(button_frame, text=\"Clear the Result\", command=clear_display, bg='orange', fg='black', relief='solid')\n",
    "clear_button.pack(side=tk.LEFT, padx=10)\n",
    "\n",
    "root.geometry(\"400x500\")\n",
    "root.resizable(False, False)  # Disable resizing\n",
    "\n",
    "# Start the Tkinter event loop\n",
    "root.mainloop()\n"
   ]
  },
  {
   "cell_type": "code",
   "execution_count": null,
   "metadata": {},
   "outputs": [],
   "source": [
    "import tkinter as tk\n",
    "from tkinter import filedialog\n",
    "from PIL import ImageTk, Image\n",
    "import cv2\n",
    "import numpy as np\n",
    "import tensorflow as tf\n",
    "import logging\n",
    "\n",
    "# Load the height, weight, and BMI models\n",
    "height_model = tf.keras.models.load_model('height_model.h5')\n",
    "weight_model = tf.keras.models.load_model('weight_model.h5')\n",
    "\n",
    "# Configure logging\n",
    "logging.basicConfig(level=logging.INFO)\n",
    "\n",
    "# Define the function to predict height, weight, and BMI\n",
    "def predict_height_weight_BMI(input_img, height_model, weight_model):\n",
    "    logging.info(\"Predicting height, weight, and BMI for image %s\", input_img)\n",
    "    test_array = np.expand_dims(np.array(my_face_encoding(input_img)), axis=0)\n",
    "    height = np.ndarray.item(np.exp(height_model.predict(test_array)))\n",
    "    height_feet = height * 3.28084  # Convert height to feet\n",
    "    weight = np.ndarray.item(np.exp(weight_model.predict(test_array)))\n",
    "    \n",
    "    bmi = weight / (height)**2\n",
    "    logging.info(\"Predicted height: %f meters (%f feet), weight: %f, BMI: %f\", height, weight, bmi)\n",
    "    return {'height': height_feet, \"weight\": weight, \"bmi\": bmi}\n",
    "\n",
    "def browse_file():\n",
    "    file_path = filedialog.askopenfilename()\n",
    "    if file_path:\n",
    "        image = Image.open(file_path)\n",
    "        image = image.resize((300, 300), Image.LANCZOS)\n",
    "        photo = ImageTk.PhotoImage(image)\n",
    "        background_label.configure(image=photo)\n",
    "        background_label.image = photo  # Save a reference to the image\n",
    "        result = predict_height_weight_BMI(file_path, height_model, weight_model)\n",
    "        result_label.config(text=f\"Height: {result['height']:.2f}\\nWeight: {result['weight']:.2f}\\nBMI: {result['bmi']:.2f}\")\n",
    "\n",
    "def capture_image():\n",
    "    cap = cv2.VideoCapture(0)\n",
    "    cap.set(3, 640)\n",
    "    cap.set(4, 480)\n",
    "\n",
    "    while True:\n",
    "        ret, frame = cap.read()\n",
    "        if ret:\n",
    "            cv2.imshow('frame', frame)\n",
    "            if cv2.waitKey(1) & 0xFF == ord('q'):\n",
    "                cv2.imwrite('captured_image.jpg', frame)\n",
    "                new_image = Image.open('captured_image.jpg')\n",
    "                new_image = new_image.resize((300, 300), Image.LANCZOS)\n",
    "                photo = ImageTk.PhotoImage(new_image)\n",
    "                background_label.configure(image=photo)\n",
    "                background_label.image = photo  # Save a reference to the image\n",
    "                result = predict_height_weight_BMI('captured_image.jpg', height_model, weight_model)\n",
    "                result_label.config(text=f\"Height: {result['height']:.2f}\\nWeight: {result['weight']:.2f}\\nBMI: {result['bmi']:.2f}\")\n",
    "                break\n",
    "\n",
    "    cap.release()\n",
    "    cv2.destroyAllWindows()\n",
    "\n",
    "def clear_display():\n",
    "    background_label.config(image='')  # Clear the background image\n",
    "    result_label.config(text=\"\")  # Clear the result text\n",
    "\n",
    "# Create Tkinter GUI\n",
    "root = tk.Tk()\n",
    "root.title(\"Body Mass Index from Face Images\")\n",
    "\n",
    "# Add GUI components\n",
    "background_image = Image.open(\"Capture.PNG\")\n",
    "background_image = background_image.resize((400, 500), Image.LANCZOS)\n",
    "background_image = ImageTk.PhotoImage(background_image)\n",
    "background_label = tk.Label(root, image=background_image)\n",
    "background_label.image = background_image  # Save a reference to the image\n",
    "background_label.place(x=0, y=0, relwidth=1, relheight=1)\n",
    "\n",
    "canvas_frame = tk.Frame(root, width=300, height=300)\n",
    "canvas_frame.pack(pady=20)\n",
    "\n",
    "result_frame = tk.Frame(root)\n",
    "result_frame.pack(pady=10)\n",
    "\n",
    "result_label = tk.Label(result_frame, font=(\"Arial\", 14), bg='white')\n",
    "result_label.pack()\n",
    "\n",
    "button_frame = tk.Frame(root)\n",
    "button_frame.pack(pady=10)\n",
    "\n",
    "browse_button = tk.Button(button_frame, text=\"Browse the Image\", command=browse_file, bg='skyblue', fg='black', relief='solid')\n",
    "browse_button.pack(side=tk.LEFT, padx=10)\n",
    "\n",
    "capture_button = tk.Button(button_frame, text=\"Capture Using Webcam\", command=capture_image, bg='pink', fg='black', relief='solid')\n",
    "capture_button.pack(side=tk.LEFT, padx=10)\n",
    "\n",
    "clear_button = tk.Button(button_frame, text=\"Clear the Result\", command=clear_display, bg='orange', fg='black', relief='solid')\n",
    "clear_button.pack(side=tk.LEFT, padx=10)\n",
    "\n",
    "root.geometry(\"400x500\")\n",
    "root.resizable(False, False)  # Disable resizing\n",
    "\n",
    "# Start the Tkinter event loop\n",
    "root.mainloop()\n"
   ]
  },
  {
   "cell_type": "code",
   "execution_count": null,
   "metadata": {},
   "outputs": [],
   "source": []
  },
  {
   "cell_type": "code",
   "execution_count": null,
   "metadata": {},
   "outputs": [],
   "source": []
  }
 ],
 "metadata": {
  "accelerator": "GPU",
  "colab": {
   "provenance": []
  },
  "gpuClass": "standard",
  "kernelspec": {
   "display_name": "Python 3 (ipykernel)",
   "language": "python",
   "name": "python3"
  },
  "language_info": {
   "codemirror_mode": {
    "name": "ipython",
    "version": 3
   },
   "file_extension": ".py",
   "mimetype": "text/x-python",
   "name": "python",
   "nbconvert_exporter": "python",
   "pygments_lexer": "ipython3",
   "version": "3.9.13"
  },
  "vscode": {
   "interpreter": {
    "hash": "e3420ed2c65300ffc1d71199033e9176e0c26ff8ced7474b2f05f6e440a26153"
   }
  }
 },
 "nbformat": 4,
 "nbformat_minor": 1
}
